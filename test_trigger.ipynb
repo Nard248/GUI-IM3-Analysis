{
 "cells": [
  {
   "cell_type": "code",
   "execution_count": 4,
   "id": "initial_id",
   "metadata": {
    "collapsed": true,
    "ExecuteTime": {
     "end_time": "2024-05-23T09:21:30.390390900Z",
     "start_time": "2024-05-23T09:21:22.784724600Z"
    }
   },
   "outputs": [
    {
     "name": "stdout",
     "output_type": "stream",
     "text": [
      "\n",
      "Status     Class           FriendlyName                                                                     InstanceId \n",
      "------     -----           ------------                                                                     ---------- \n",
      "OK         USB             Generic USB Hub                                                                  USB\\VID_...\n",
      "\n",
      "\n"
     ]
    }
   ],
   "source": [
    "import subprocess\n",
    "import time\n",
    "\n",
    "def control_usb_windows(device_id, action):\n",
    "    if action == \"off\":\n",
    "        result = subprocess.run([\"powershell\", \"-Command\", f\"Disable-PnpDevice -InstanceId '{device_id}' -Confirm:$false\"], capture_output=True, text=True)\n",
    "        print(result.stdout)\n",
    "    elif action == \"on\":\n",
    "        result = subprocess.run([\"powershell\", \"-Command\", f\"Enable-PnpDevice -InstanceId '{device_id}' -Confirm:$false\"], capture_output=True, text=True)\n",
    "        print(result.stdout)\n",
    "\n",
    "# Replace with the actual device instance ID\n",
    "device_id = \"USB\\\\VID_05E3&PID_0610\\\\5&2AD16F6B&0&2\"\n",
    "\n",
    "# Turn off the USB port\n",
    "control_usb_windows(device_id, \"off\")\n",
    "\n",
    "# Wait for a few seconds to observe the change\n",
    "time.sleep(5)\n",
    "\n",
    "# Check device status (optional)\n",
    "status = subprocess.run([\"powershell\", \"-Command\", f\"Get-PnpDevice -InstanceId '{device_id}'\"], capture_output=True, text=True)\n",
    "print(status.stdout)\n",
    "\n",
    "# Turn on the USB port\n",
    "control_usb_windows(device_id, \"on\")\n"
   ]
  },
  {
   "cell_type": "code",
   "execution_count": null,
   "outputs": [],
   "source": [],
   "metadata": {
    "collapsed": false
   },
   "id": "9e40d68a8afb7f19"
  }
 ],
 "metadata": {
  "kernelspec": {
   "display_name": "Python 3",
   "language": "python",
   "name": "python3"
  },
  "language_info": {
   "codemirror_mode": {
    "name": "ipython",
    "version": 2
   },
   "file_extension": ".py",
   "mimetype": "text/x-python",
   "name": "python",
   "nbconvert_exporter": "python",
   "pygments_lexer": "ipython2",
   "version": "2.7.6"
  }
 },
 "nbformat": 4,
 "nbformat_minor": 5
}
